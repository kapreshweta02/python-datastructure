{
  "nbformat": 4,
  "nbformat_minor": 0,
  "metadata": {
    "colab": {
      "provenance": []
    },
    "kernelspec": {
      "name": "python3",
      "display_name": "Python 3"
    },
    "language_info": {
      "name": "python"
    }
  },
  "cells": [
    {
      "cell_type": "markdown",
      "source": [
        "**Data types and structures questions**"
      ],
      "metadata": {
        "id": "rn_QCkx_83Y7"
      }
    },
    {
      "cell_type": "markdown",
      "source": [
        "Q.1  What are data structures, and why are they important in python?\n",
        "\n",
        "Ans - Data structures are ways of organizing and storing data in a computer so it can be accessed and modified efficiently. In Python, data structures help you manage and work with data in logical and useful ways.\n",
        "\n",
        "    Type\t               Description\t                     Example\n",
        "\n",
        "    List\t      Ordered, mutable, allows duplicates\t     [1, 2, 3]\n",
        "    Tuple\t     Ordered, immutable, allows duplicates\t   (1, 2, 3)\n",
        "    Set\t       Unordered, mutable, no duplicates\t       {1, 2, 3}\n",
        "    Dictionary    Key-value pairs, unordered              {\"a\": 1, \"b\": 2}\n",
        "                  (Python 3.7+ preserves order)\n",
        "    \n",
        "    String (str)\tImmutable sequence of characters          \"hello\"\n",
        "                 (can be thought of like a list of chars)\n",
        "\n",
        "\n",
        "They are important in python because:\n",
        "\n",
        "1. Efficient Data Handling\n",
        "\n",
        " Data structures help manage data in a way that makes operations like searching, sorting, and updating faster and more efficient.\n",
        "\n",
        "2. Cleaner Code\n",
        "\n",
        " Using the right data structure simplifies logic and reduces bugs. For example, using a set when you need unique values avoids writing extra code to remove duplicates.\n",
        "\n",
        "3. Memory Management\n",
        "\n",
        " Different structures use memory differently. For example, tuple is lighter than list if data doesn’t change.\n",
        "\n",
        "4. Real-world Modeling\n",
        "\n",
        " Data structures help you model real-world problems more accurately (e.g., using a dict for a phone book).\n",
        "\n",
        "5. Built-in Support in Python\n",
        "\n",
        " Python provides powerful, easy-to-use data structures out of the box, making them integral to Python programming.\n",
        "\n",
        "\n"
      ],
      "metadata": {
        "id": "miKwsscjfpGW"
      }
    },
    {
      "cell_type": "markdown",
      "source": [
        "  Q.2 Explain the difference between mutable and immutable data types with examples?\n",
        "\n",
        "  Ans-    \n",
        "\n",
        "    Feature\t          Mutable\t                         Immutable\n",
        "\n",
        "    1.Definition\t     Can be changed                  Cannot be changed\n",
        "                       after creation\t                after creation\n",
        "   \n",
        "    2.Memory            Same memory address              New memory address\n",
        "      Behavior          after modification \t          after modified              \n",
        "    \n",
        "    3.Examples\t      list, dict,                \t int, float, str, tuple,\n",
        "                        set, bytearray                   bool,frozenset\n",
        "    4.Can be used\n",
        "      as dict key?\t  No (unhashable)\t            Yes (hashable)\n",
        "    \n",
        "    5.Use Case\t     When frequent updates             When data must\n",
        "                        are needed\t                   stay constant\n",
        "    \n",
        "    6.Code Example\t  my_list.append(4)\t             my_str\n",
        "                                                         = my_str + \" world\"\n",
        "   \n",
        "    7.Result\t      Changes the original              Creates a new object\n",
        "                      object\n",
        "\n",
        "Example:\n",
        "\n",
        "Mutable\n",
        "\n",
        "    my_list = [1, 2, 3]\n",
        "    print(id(my_list))  # memory address before change\n",
        "    my_list.append(4)   # modify the list\n",
        "    print(my_list)      # Output: [1, 2, 3, 4]\n",
        "    print(id(my_list))  # same memory address → it's mutable\n",
        "\n",
        "Example:\n",
        "\n",
        "Immutable\n",
        "\n",
        "    my_str = \"hello\"\n",
        "    print(id(my_str))  # memory address before change\n",
        "    my_str = my_str + \" world\"  # creates a new string\n",
        "    print(my_str)               # Output: \"hello world\"\n",
        "    print(id(my_str))           # different memory address → it's immutable\n",
        "\n",
        "                  "
      ],
      "metadata": {
        "id": "Pn5dpHkIi3bm"
      }
    },
    {
      "cell_type": "markdown",
      "source": [
        "Q.3 What are the main differences between lists and tuples in Python?\n",
        "\n",
        "Ans-          \n",
        "   \n",
        "    Featur                 List \t                      Tuple\n",
        "\n",
        "    Mutability\tMutable (can be changed)\t Immutable (cannot be changed)\n",
        "    \n",
        "    Syntax\t    Square brackets: [1, 2, 3]\tParentheses: (1, 2, 3)\n",
        "    \n",
        "    Performance\t  Slower (more memory,         Faster (less memory,\n",
        "                     more flexible)\t              more efficient)\n",
        "  \n",
        "    Use Cases\t  When you need to modify,  \tWhen data shouldn't\n",
        "                    add, or remove items         change (e.g., constants)\n",
        "    \n",
        "    Methods   \tMany (like append(),\t      Few (mostly count(),index())\n",
        "    Available     remove(),etc.)                            \n",
        "    \n",
        "    Hashable\t No (cannot be used as      \tYes (if all elements\n",
        "                 a key in dict)                  are also immutable)\n",
        "    \n",
        "                                         \n",
        "    Supports         Yes                         Yes\n",
        "    Nesting\n",
        "\n",
        "Example of list and tuples:\n",
        "\n",
        "List\n",
        "\n",
        "    my_list = [1, 2, 3]\n",
        "    my_list.append(4) # Works\n",
        "    print(my_list)    # [1, 2, 3, 4]\n",
        "\n",
        "Tuple\n",
        "\n",
        "    my_tuple = (1, 2, 3)\n",
        "    #my_tuple.append(4)  # Error: 'tuple' object has no attribute 'append'\n",
        "\n"
      ],
      "metadata": {
        "id": "baCrU3K6qzC2"
      }
    },
    {
      "cell_type": "markdown",
      "source": [
        "Q.4 Describe how dictionaries store data?\n",
        "\n",
        "Ans- A dictionary in Python is an unordered collection of key-value pairs, where each key must be unique and hashable. It allows for fast lookup, insertion, and deletion.\n",
        "\n",
        "    CONCEPT        DESCRIPTION\n",
        "    \n",
        "    Structure\tUses a hash table behind the scenes\n",
        "    \n",
        "    Keys\t     Stored based on their hash values (generated by hash())\n",
        "\n",
        "    Values\t   Associated with the hash of the key and stored in a\n",
        "                 corresponding location\n",
        "    \n",
        "    Access Speed  Very fast – usually O(1) for lookup, insert, and delete\n",
        "    \n",
        "    Ordering\t  As of Python 3.7+, dictionaries maintain insertion order\n",
        "Example of dictionary\n",
        "\n",
        "\n",
        "    my_dict = {\n",
        "      \"name\": \"Alice\",\n",
        "      \"age\": 30,\n",
        "      \"city\": \"New York\"\n",
        "    }    \n",
        "\n",
        "Advantages\n",
        "\n",
        "1. Super fast access to data by key\n",
        "\n",
        "2. Great for mappings, caches, configurations, etc.\n",
        "\n",
        "3. Supports dynamic resizing as you add more items    "
      ],
      "metadata": {
        "id": "KKMafSTLWgMk"
      }
    },
    {
      "cell_type": "markdown",
      "source": [
        "Q.5 Why might you use a set instead of a list in Python?\n",
        "\n",
        "Ans-\n",
        "   \n",
        "    \n",
        "    Reason\t         Why set is Better\t           Example\n",
        "\n",
        "    1.Unique Elements\tA set automatically \t  set([1,2, 2, 3]) → {1, 2,\n",
        "        Only            removes duplicates         3}\n",
        "    \n",
        "    2.Faster Lookups\tLookup time in a set is   'a' in my_set is must\n",
        "                        on average O(1),vs O(n)    faster than 'a' in\n",
        "                        in a list                   my_list\n",
        "    \n",
        "    3.Set Operations\tSupports mathematical set   set1 & set2,'set1'\n",
        "                        operations like union,\n",
        "                        intersection,difference\n",
        "\n",
        "    4.Memory Efficient   No overhead for duplicates   Good for large\n",
        "    (for unique values)  and internal structured      collections of unique\n",
        "                         is optimized for fast        values\n",
        "                         operations\n",
        "\n",
        "When Not to Use a Set\n",
        "\n",
        "Limitation\tExplanation\n",
        "\n",
        "1.Order is not preserved\tUnlike lists, sets are unordered\n",
        "\n",
        "2.No indexing or slicing\tYou can’t access elements by index (my_set[0] is invalid)\n",
        "\n",
        "3.Mutable items not allowed\tYou can’t add lists or other sets to a set (but you can use frozenset)\n",
        "\n",
        "Example use case:\n",
        "\n",
        "    emails = [\"a@example.com\", \"b@example.com\", \"a@example.com\"]\n",
        "    unique_emails = set(emails)\n",
        "    print(unique_emails)    \n",
        "\n",
        "    #Output:{'a@example.com','b@example.com'}"
      ],
      "metadata": {
        "id": "b9sMlVczYi6F"
      }
    },
    {
      "cell_type": "markdown",
      "source": [
        "Q.6  What is a string in Python, and how is it different from a list?\n",
        "\n",
        "Ans-A string is a sequence of characters used to represent text. In Python, strings are immutable, which means once created, they cannot be changed.\n",
        "\n",
        "example:\n",
        "\n",
        "my_string = \"hello\"\n",
        "\n",
        "    Feature   \t     String (str)\t               List (list)\n",
        "    \n",
        "    Content\t        Sequence of characters\tSequence of any data types\n",
        "                                                 (e.g., int, str)\n",
        "\n",
        "    Syntax\t        Quotation marks: \"hello\" \tSquare brackets:\n",
        "                            or 'hello'\t      ['h', 'e', 'l', 'l', 'o']\n",
        "\n",
        "    Mutability\t  Immutable (can’t change         Mutable (can modify,\n",
        "                    individual characters)          add, or remove items)\n",
        "    \n",
        "    Indexing\t          Yes                            Yes\n",
        "                   (e.g., my_str[0] → 'h')      (e.g., my_list[0] → 'h')\n",
        "\n",
        "    Slicing\t               Yes\t                      Yes\n",
        "\n",
        "    Methods\t        Text-based (upper(),           General-purpose\n",
        "                       replace(), split())        (append(), sort(), etc.)\n",
        "    \n",
        "    Use Case\t           Text data\t           Any kind of collection\n",
        "                                                   (numbers,strings,etc..)\n",
        "\n",
        "Example\n",
        "\n",
        "    #String\n",
        "    s = \"hello\"\n",
        "    print(s[1])       # Output: 'e'\n",
        "    #s[1] = 'a'       Error: strings are immutable\n",
        "\n",
        "    #List\n",
        "    l = ['h', 'e', 'l', 'l', 'o']\n",
        "    l[1] = 'a'        # Allowed\n",
        "    print(l)          # Output: ['h', 'a', 'l', 'l', 'o']"
      ],
      "metadata": {
        "id": "vz8sbQEOTs3Z"
      }
    },
    {
      "cell_type": "markdown",
      "source": [
        "Q.7 How do tuples ensure data integrity in Python?\n",
        "\n",
        "Ans-\n",
        "\n",
        "   \n",
        "    Feature\t           How It Supports Integrity\n",
        "   \n",
        "    Immutability\t  Once a tuple is created, its contents cannot be changed.\n",
        "                       This means no accidental changes to data.\n",
        "    \n",
        "    Predictability\tBecause tuples are fixed, their values\n",
        "                      are reliable and consistent across the program.\n",
        "\n",
        "    Hashability\t  Tuples can be used as dictionary keys or set elements if\n",
        "                     they contain only immutable items, making them useful in\n",
        "                     secure data mapping.\n",
        "    \n",
        "    Safe for         Ideal for storing constants, configuration, or\n",
        "    Read-Only Data    any data that should remain unchanged.\n",
        "\n",
        "\n",
        "Example\n",
        "    user_info = (\"Alice\", \"Engineer\", \"New York\")\n",
        "    #This is safe — can't be accidentally modified:\n",
        "    #user_info[1] = \"Designer\"\n",
        "    Error: 'tuple' object does not support item assignment\n",
        "\n",
        "Why data integrity matters\n",
        "\n",
        "1.Prevents bugs due to unintended changes\n",
        "\n",
        "2.Ensures consistency in applications (especially in large or shared codebases)\n",
        "\n",
        "3.Useful when working with functional programming, where immutability is a core principle    \n",
        "\n",
        "When to Use a Tuple for Integrity\n",
        "\n",
        "1.As keys in a dict\n",
        "\n",
        "2.To return multiple fixed values from a function\n",
        "\n",
        "3.To represent fixed collections (e.g., geographic coordinates, RGB values, etc.)\n"
      ],
      "metadata": {
        "id": "BLO91YE4Y2DU"
      }
    },
    {
      "cell_type": "markdown",
      "source": [
        "Q.8 What is a hash table, and how does it relate to dictionaries in Python?\n",
        "\n",
        "Ans- A hash table is a data structure that stores key-value pairs and uses a hash function to compute an index (called a hash) into an array of buckets or slots. This index determines where the data is stored or looked up.\n",
        "\n",
        "Hash Table Features in Dictionaries\n",
        "\n",
        "    Feature\t          How It Works in dict\n",
        "\n",
        "    Fast Lookup\t       Average time: O(1)\n",
        "    Unique Keys\t       Each key must be unique\n",
        "    Hashable Keys\t     Keys must be immutable (e.g., str, int, tuple)\n",
        "    Dynamic Resizing\t  Python handles resizing automatically\n",
        "    Collision Handling\tIf two keys hash to the same index, Python uses\n",
        "                          open addressing to resolve it\n",
        "\n",
        "Hash Table Limitations\n",
        "\n",
        "1.Keys must be immutable (lists, for example, can’t be used as keys)\n",
        "\n",
        "2.Performance may degrade if too many hash collisions occur (but Python optimizes for this)  \n",
        "\n",
        "Example:\n",
        "\n",
        "    phone_book = {\n",
        "     \"Alice\": \"123-456\",\n",
        "     \"Bob\": \"987-654\"\n",
        "    }\n",
        "    print(phone_book[\"Alice\"])  # Fast O(1) access using hash lookup\n"
      ],
      "metadata": {
        "id": "haRYHGd0b-oH"
      }
    },
    {
      "cell_type": "markdown",
      "source": [
        "Q.9 Can lists contain different data types in Python?\n",
        "\n",
        "Ans- Python lists are heterogeneous, meaning they can store mixed data types—including numbers, strings, booleans, other lists, objects, and more—all in the same list.\n",
        "\n",
        "Example:\n",
        "\n",
        "    mixed_list = [42, \"hello\", 3.14, True, [1, 2, 3], {\"key\": \"value\"}]\n",
        "    print(mixed_list)\n",
        "    #Output:[42, 'hello', 3.14, True, [1, 2, 3], {'key': 'value'}]\n",
        "\n",
        "This is valid and common in Python because Python is dynamically typed—it doesn’t require you to declare a specific data type for your variables or container elements.\n",
        "\n",
        "    Scenario\t         How It Helps\n",
        "    \n",
        "    Storing form \t   You might have a name (str), age (int), and status\n",
        "     data               (bool) together\n",
        "    \n",
        "    Handling JSON-\t   JSON objects can be nested and mixed,\n",
        "    like structures\t  like lists of dicts\n",
        "    \n",
        "    Prototyping or    \tEasier to work with various data\n",
        "    flexible inputs       during testing or development\n",
        "\n"
      ],
      "metadata": {
        "id": "IVIWsIK-ePJ8"
      }
    },
    {
      "cell_type": "markdown",
      "source": [
        "Q.10 Explain why strings are immutable in Python?\n",
        "\n",
        "Ans- Once a string is created, it cannot be changed.\n",
        "Any operation that tries to modify a string actually creates a new string object.\n",
        "\n",
        "    Reason\t        Explanation\n",
        "   \n",
        "    1.Safety &      \tPrevents accidental changes to data—especially\n",
        "    Simplicity        important for shared data.\n",
        "\n",
        "    2.Hashability\t   Immutable strings can be hashed, so they can be used as\n",
        "                        dictionary keys and in sets.\n",
        "\n",
        "    3.Performance\t   Immutable objects can be interned or cached, making Python\n",
        "                        faster in certain scenarios.\n",
        "   \n",
        "    4.Consistency\t   Makes strings behave predictably across the language.\n",
        "\n",
        "Example\n",
        "\n",
        "    s = \"hello\"\n",
        "    s = s + \" world\"  # This does NOT modify the original string\n",
        "    print(s)          # Output: \"hello world\"    \n",
        "\n",
        "\n"
      ],
      "metadata": {
        "id": "AOoijZCXmwBu"
      }
    },
    {
      "cell_type": "markdown",
      "source": [
        "Q.11 What advantages do dictionaries offer over lists for certain tasks?\n",
        "\n",
        "Ans-\n",
        "\n",
        "Advantages of Dictionaries Over Lists\n",
        "\n",
        "    Feature     \tDictionaries \t           Lists\n",
        "    \n",
        "    Fast Lookups\tO(1) time to access a\t O(n) time to find an item by\n",
        "                     value using a key        value or condition\n",
        "    \n",
        "    Key-Based Access\tAccess data by custom keys like \"name\" or \"id\"\tAccess by integer index only (e.g., list[0])\n",
        "Better for Structured Data\tIdeal for storing related attributes of an item (like a record)\tNot designed for labeled data – only positions\n",
        "Improves Code Readability\tuser[\"email\"] is more descriptive than user[3]\tYou have to remember what each index represents\n",
        "Dynamic & Flexible\tEasily add, remove, or update key-value pairs\tMust manage position and order manually\n"
      ],
      "metadata": {
        "id": "bh-Yqj-ZokZI"
      }
    },
    {
      "cell_type": "markdown",
      "source": [
        "Q.12 Describe a scenario where using a tuple would be preferable over a list?\n",
        "\n",
        "Ans-A tuple is preferable over a list when you need to store a fixed collection of items that should not change throughout the program.\n",
        "\n",
        "Tuple:\n",
        "\n",
        "1.Immutability: Coordinates shouldn't be changed accidentally. Tuples are immutable, so once created, the data stays the same.\n",
        "\n",
        "2.Semantic meaning: Using a tuple signals that this data structure is a single, unchanging unit.\n",
        "\n",
        "3.Hashable: Tuples can be used as dictionary keys or stored in sets—lists can’t.\n",
        "\n",
        "Example:\n",
        "\n",
        "\n",
        "    locations_visited = {\n",
        "    (40.7128, -74.0060): \"New York City\",\n",
        "    (34.0522, -118.2437): \"Los Angeles\"\n",
        "    }"
      ],
      "metadata": {
        "id": "3gwua8o2jFFA"
      }
    },
    {
      "cell_type": "markdown",
      "source": [
        "Q.13 How do sets handle duplicate values in Python?\n",
        "\n",
        "Ans- In Python, sets automatically eliminate duplicate values. When you add items to a set, any duplicates are silently ignored—only unique items are kept.\n",
        "\n",
        "Example:\n",
        "\n",
        "    my_set = {1, 2, 3, 2, 1, 4}\n",
        "    print(my_set)\n",
        "\n",
        "Output:    \n",
        "      \n",
        "      {1, 2, 3, 4}\n",
        "\n",
        "Sets are built on hash tables, which only allow one instance of each hashable (immutable) value. So:\n",
        "\n",
        "1.No duplicates\n",
        "\n",
        "2.Unordered (items don’t retain insertion order, at least in versions before Python 3.7)\n",
        "\n",
        "3.Fast membership testing (in checks)      \n"
      ],
      "metadata": {
        "id": "I7gnCwVekUNP"
      }
    },
    {
      "cell_type": "markdown",
      "source": [
        "Q.14 How does the “in” keyword work differently for lists and dictionaries?\n",
        "\n",
        "Ans-The in keyword is used for membership testing, but it behaves a bit differently depending on the data structure—especially when comparing lists and dictionaries.\n",
        "\n",
        "-in with lists\n",
        "\n",
        "When used with a list, in checks if a value exists among the elements of the list.\n",
        "\n",
        "    my_list = [1, 2, 3, 4]\n",
        "    print(2 in my_list)     # True\n",
        "    print(5 in my_list)     # False\n",
        "It checks values\n",
        "\n",
        "Linear search (O(n) time complexity)\n",
        "\n",
        "-in with dictionaries\n",
        "\n",
        "When used with a dictionary, in checks if a key exists in the dictionary—not values by default.\n",
        "\n",
        "\n",
        "    my_dict = {'a': 1, 'b': 2}\n",
        "    print('a' in my_dict)   # True (checks key)\n",
        "    print(1 in my_dict)     # False (doesn't check values)\n",
        "\n",
        "It checks keys\n",
        "\n",
        "Much faster (average O(1) time complexity)\n",
        "\n",
        "Want to check values in a dictionary?\n",
        "Use .values():\n",
        "\n",
        "    print(1 in my_dict.values())  # True\n",
        "Or .items() to check key-value pairs:\n",
        "\n",
        "\n",
        "    print(('a', 1) in my_dict.items())  # True\n",
        "\n",
        "\n",
        "\n"
      ],
      "metadata": {
        "id": "Eo9Fq47WlEZ3"
      }
    },
    {
      "cell_type": "markdown",
      "source": [
        "Q.15 Can you modify the elements of a tuple? Explain why or why not?\n",
        "\n",
        "Ans- No, you cannot modify the elements of a tuple—because tuples are immutable in Python.\n",
        "\n",
        "-Immutable mean\n",
        "\n",
        "It means once a tuple is created, you can’t change its contents—no adding, removing, or changing individual elements.\n",
        "\n",
        "Example:\n",
        "\n",
        "    my_tuple = (1, 2, 3)\n",
        "    my_tuple[0] = 100  #This will raise a TypeError\n",
        "Output:\n",
        "\n",
        "    TypeError: 'tuple' object does not support item assignment\n",
        "\n",
        "-Tuples immutable:\n",
        "\n",
        "1.Data integrity – Great for fixed collections (like coordinates, dates, etc.) where values shouldn't change.\n",
        "\n",
        "2.Hashability – Tuples can be used as keys in dictionaries or stored in sets, but only if all their elements are hashable too.\n",
        "\n",
        "3.Performance – Slightly faster than lists due to their fixed size and immutability.\n",
        "\n",
        "Note:\n",
        "\n",
        "If a tuple contains a mutable object (like a list), that object inside the tuple can be changed:\n",
        "\n",
        "\n",
        "    my_tuple = ([1, 2], 3)\n",
        "    my_tuple[0].append(99)  # This works!\n",
        "    print(my_tuple)         # Output: ([1, 2, 99], 3)\n",
        "So the tuple itself isn’t changing—just the contents of a mutable element inside it.\n",
        "\n",
        "\n"
      ],
      "metadata": {
        "id": "DSubQgCWnMqA"
      }
    },
    {
      "cell_type": "markdown",
      "source": [
        "Q.16 What is a nested dictionary, and give an example of its use case?\n",
        "\n",
        "Ans-A nested dictionary is a dictionary within another dictionary. It allows you to store hierarchical or grouped data in a clean and structured way.\n",
        "\n",
        "Example:\n",
        "\n",
        "    students = {\n",
        "    \"Alice\": {\"age\": 20, \"major\": \"Computer Science\"},\n",
        "    \"Bob\": {\"age\": 22, \"major\": \"Mathematics\"},\n",
        "    }\n",
        "Here, each student's name is a key, and the value is another dictionary with their details.\n",
        "\n",
        "-Accessing Data:\n",
        "\n",
        "    print(students[\"Alice\"][\"major\"])  # Output: Computer Science\n",
        "-Use Case:\n",
        "\n",
        "*Student Record System\n",
        "In an app for schools or universities, each student might have multiple attributes: age, major, GPA, courses, etc. A nested dictionary lets you easily store and access this kind of related data.\n",
        "\n",
        "Other Use Cases:\n",
        "1.JSON-like configurations (e.g., settings or API responses)\n",
        "\n",
        "2.Inventory systems (e.g., categories → items → attributes)\n",
        "\n",
        "3.Game development (e.g., characters → stats → values)\n",
        "\n"
      ],
      "metadata": {
        "id": "A1yyLYWJpitw"
      }
    },
    {
      "cell_type": "markdown",
      "source": [
        "Q.17 Describe the time complexity of accessing elements in a dictionary?\n",
        "\n",
        "Ans-Accessing elements in a dictionary in Python is generally O(1) time complexity—meaning it's constant time, regardless of the size of the dictionary.\n",
        "\n",
        "-O(1)\n",
        "\n",
        "Dictionaries in Python are implemented using hash tables. When you access a value by key:\n",
        "\n",
        "    my_dict = {'a': 1, 'b': 2}\n",
        "    value = my_dict['a']  # O(1)\n",
        "Python uses the key’s hash value to directly jump to the correct location in memory where the value is stored—no need to search through each item.\n",
        "\n",
        "*Worst Case\n",
        "In very rare edge cases (like a lot of hash collisions), access could degrade to O(n), but Python’s internal handling (like using open addressing and rehashing) keeps this extremely rare.\n",
        "\n",
        "Summary:\n",
        "\n",
        "    Operation\t               Time Complexity\n",
        "    \n",
        "    1.Access by key                O(1) average\n",
        "    \n",
        "    2.Insert/update key\t        O(1) average\n",
        "    \n",
        "    3.Delete by key\t            O(1) average\n",
        "    \n",
        "    4.Search for value\t         O(n)"
      ],
      "metadata": {
        "id": "6q20rv8hqWxC"
      }
    },
    {
      "cell_type": "markdown",
      "source": [
        "Q.18 In what situations are lists preferred over dictionaries?\n",
        "\n",
        "Ans-Lists are preferred over dictionaries when you care about ordered data, indexed access, or when your data doesn’t require explicit key-value pairs. Here are the most common situations:\n",
        "\n",
        "1.Simple Collections of Items\n",
        "\n",
        "If you just need to store a bunch of related items (like numbers, names, or objects) without needing a label for each:\n",
        "\n",
        "    fruits = [\"apple\", \"banana\", \"cherry\"]\n",
        "Use a list when the position of an item matters more than a label.\n",
        "\n",
        "2.Maintaining Order and Iteration by Index\n",
        "\n",
        "Lists keep the order of items (and support duplicate values), which is useful when:\n",
        "\n",
        "1.You need to loop with index\n",
        "\n",
        "2.You want to sort the items\n",
        "\n",
        "3.You care about insertion order\n",
        "\n",
        "    for i in range(len(fruits)):\n",
        "    print(i, fruits[i])\n",
        "3.Sequential or Numeric Indexing\n",
        "\n",
        "If your access pattern is like: \"give me item at position 0, 1, 2...\", a list is ideal:\n",
        "\n",
        "    playlist = [\"song1\", \"song2\", \"song3\"]\n",
        "    print(playlist[1])  # song2\n",
        "4.You Don’t Need Unique Keys\n",
        "\n",
        "Dictionaries require unique keys. Lists allow duplicate values and don’t need named keys.\n",
        "\n",
        "*When NOT to Use Lists:\n",
        "\n",
        "1.If you need fast lookup by a unique identifier → use a dictionary\n",
        "\n",
        "2.If you're mapping data (like a username to profile info) → dictionary\n",
        "\n",
        "3.If you want to represent structured or hierarchical data → dictionary or nested dicts"
      ],
      "metadata": {
        "id": "jhpaH2swroF0"
      }
    },
    {
      "cell_type": "markdown",
      "source": [
        "Q.19 Why are dictionaries considered unordered, and how does that affect data retrieval?\n",
        "\n",
        "Ans-\n",
        "\n",
        "*Dictionaries considered unordered:\n",
        "\n",
        "In versions before Python 3.7, dictionaries didn't guarantee that items would maintain the order in which they were added. This is because they were optimized solely for fast lookups, not preserving order.\n",
        "\n",
        "*What changed?\n",
        "Starting with Python 3.7+, dictionaries do maintain insertion order as an official language feature.\n",
        "\n",
        "    my_dict = {\"a\": 1, \"b\": 2, \"c\": 3}\n",
        "    print(my_dict)  # Output: {'a': 1, 'b': 2, 'c': 3}\n",
        "\n",
        "The order is now preserved as you added the keys.\n",
        "\n",
        "They still sometimes called unordered because\n",
        "\n",
        "Conceptually, dictionaries are still based on hash tables, where key order doesn't matter for lookups\n",
        "\n",
        "Lookup by key is still not based on position or index like in lists\n",
        "\n",
        "So even though the order is preserved, you don’t access items by position, and that’s what keeps dictionaries fundamentally different from lists.\n",
        "\n",
        "*How does this affect data retrieval:\n",
        "\n",
        "1.Access by key is still O(1)—super fast\n",
        "\n",
        "2.You can’t do my_dict[0] to get the first inserted item\n",
        "\n",
        "3.You can iterate in the order items were added:\n",
        "\n",
        "    for key in my_dict:\n",
        "    print(key, my_dict[key])\n"
      ],
      "metadata": {
        "id": "hAxnLTi1swWN"
      }
    },
    {
      "cell_type": "markdown",
      "source": [
        "Q.20 Explain the difference between a list and a dictionary in terms of data retrieval?\n",
        "\n",
        "Ans-\n",
        "\n",
        "the difference between a list and a dictionary in Python specifically in terms of data retrieval:\n",
        "\n",
        "*How You Retrieve Data\n",
        "\n",
        "   \n",
        "    Structure\t      RetrievalType\t            Example\n",
        "   \n",
        "    List\t          By index\t              my_list[0]\n",
        "   \n",
        "    Dictionary\t    By key\t                my_dict[\"name\"]\n",
        "*List: You access elements by their position in the list.\n",
        "\n",
        "*Dictionary: You access values by specifying a unique key.\n",
        "\n",
        "2.Retrieval Speed (Time Complexity)\n",
        "\n",
        "    Structure\t            Retrieval Time\n",
        "    \n",
        "    List\t                 O(1) for index, O(n) for search\n",
        "    \n",
        "    Dictionary\t           O(1) for key lookup\n",
        "*List: Fast if you know the index, but slow if searching for a value.\n",
        "\n",
        "*Dictionary: Fast key-based access, because it uses a hash table under the hood.\n",
        "\n",
        "3.Use Case Example\n",
        "\n",
        "  #List\n",
        "\n",
        "    colors = [\"red\", \"green\", \"blue\"]\n",
        "    print(colors[1])  # Output: green (access by position)\n",
        "\n",
        "  #Dictionary\n",
        "    user = {\"name\": \"Alice\", \"age\": 25}\n",
        "    print(user[\"name\"])  # Output: Alice (access by key)\n",
        "\n"
      ],
      "metadata": {
        "id": "dx-VN5xIvWSg"
      }
    },
    {
      "cell_type": "markdown",
      "source": [
        "**PRACTICAL QUESTIONS**"
      ],
      "metadata": {
        "id": "D5cFS2ADxahr"
      }
    },
    {
      "cell_type": "markdown",
      "source": [
        "Q.1 Write a code to create a string with your name and print it?"
      ],
      "metadata": {
        "id": "i4eJ5ShExmJ9"
      }
    },
    {
      "cell_type": "code",
      "source": [
        "# Creating a string using string datatype\n",
        "name = str(\"Shweta kapre\")\n",
        "\n",
        "# Printing the string\n",
        "print(\"My name is \" + name)\n"
      ],
      "metadata": {
        "colab": {
          "base_uri": "https://localhost:8080/"
        },
        "id": "9FWVFqmjxuEa",
        "outputId": "3ae94449-9c8d-4c9a-b43b-6337aa029371"
      },
      "execution_count": 3,
      "outputs": [
        {
          "output_type": "stream",
          "name": "stdout",
          "text": [
            "My name is Shweta kapre\n"
          ]
        }
      ]
    },
    {
      "cell_type": "markdown",
      "source": [
        " Q.2 Write a code to find the length of the string \"Hello World\"?"
      ],
      "metadata": {
        "id": "0Z5PqHFoy6iU"
      }
    },
    {
      "cell_type": "code",
      "source": [
        "text = \"Hello World\"\n",
        "length = len(text)\n",
        "print(\"The length of the string is:\", length)\n"
      ],
      "metadata": {
        "colab": {
          "base_uri": "https://localhost:8080/"
        },
        "id": "cHpYCCG-zE08",
        "outputId": "8cec4d29-28dd-4fd0-a645-f50def788cbd"
      },
      "execution_count": 4,
      "outputs": [
        {
          "output_type": "stream",
          "name": "stdout",
          "text": [
            "The length of the string is: 11\n"
          ]
        }
      ]
    },
    {
      "cell_type": "markdown",
      "source": [
        "Q.3 Write a code to slice the first 3 characters from the string \"Python Programming\"?"
      ],
      "metadata": {
        "id": "GwwyVd6WzSvR"
      }
    },
    {
      "cell_type": "code",
      "source": [
        "text = \"Python Programming\"\n",
        "sliced_text = text[:3]\n",
        "print(\"The first 3 characters are:\", sliced_text)\n"
      ],
      "metadata": {
        "colab": {
          "base_uri": "https://localhost:8080/"
        },
        "id": "l1eQ-OY2zYU3",
        "outputId": "ddebbcc6-d556-44de-d987-46cab784ceed"
      },
      "execution_count": 5,
      "outputs": [
        {
          "output_type": "stream",
          "name": "stdout",
          "text": [
            "The first 3 characters are: Pyt\n"
          ]
        }
      ]
    },
    {
      "cell_type": "markdown",
      "source": [
        "Q.4 Write a code to convert the string \"hello\" to uppercase?"
      ],
      "metadata": {
        "id": "1ndlc1M4zlrC"
      }
    },
    {
      "cell_type": "code",
      "source": [
        "text = \"hello\"\n",
        "uppercase_text = text.upper()\n",
        "print(\"Uppercase:\", uppercase_text)\n"
      ],
      "metadata": {
        "colab": {
          "base_uri": "https://localhost:8080/"
        },
        "id": "44iLjeTRzrqX",
        "outputId": "2ae1709f-dbb1-484d-9b4b-76f9d0435d9c"
      },
      "execution_count": 6,
      "outputs": [
        {
          "output_type": "stream",
          "name": "stdout",
          "text": [
            "Uppercase: HELLO\n"
          ]
        }
      ]
    },
    {
      "cell_type": "markdown",
      "source": [
        "Q.5 Write a code to replace the word \"apple\" with \"orange\" in the string \"I like apple\"?"
      ],
      "metadata": {
        "id": "sKtTRkwAz5Q-"
      }
    },
    {
      "cell_type": "code",
      "source": [
        "text = \"I like apple\"\n",
        "new_text = text.replace(\"apple\", \"orange\")\n",
        "print(new_text)\n"
      ],
      "metadata": {
        "colab": {
          "base_uri": "https://localhost:8080/"
        },
        "id": "oGGH7GxS0Dyb",
        "outputId": "ac6c21e3-4ab2-43d3-f9f2-ecc2cf86f371"
      },
      "execution_count": 7,
      "outputs": [
        {
          "output_type": "stream",
          "name": "stdout",
          "text": [
            "I like orange\n"
          ]
        }
      ]
    },
    {
      "cell_type": "markdown",
      "source": [
        "Q.6 Write a code to create a list with numbers 1 to 5 and print it?"
      ],
      "metadata": {
        "id": "QVj1Co-40MzP"
      }
    },
    {
      "cell_type": "code",
      "source": [
        "numbers = [1, 2, 3, 4, 5]\n",
        "print(\"The list is:\", numbers)\n"
      ],
      "metadata": {
        "colab": {
          "base_uri": "https://localhost:8080/"
        },
        "id": "cl44T0GB0Uuy",
        "outputId": "7ed3839a-f294-455d-a836-4518271211b4"
      },
      "execution_count": 8,
      "outputs": [
        {
          "output_type": "stream",
          "name": "stdout",
          "text": [
            "The list is: [1, 2, 3, 4, 5]\n"
          ]
        }
      ]
    },
    {
      "cell_type": "markdown",
      "source": [
        "Q.7 Write a code to append the number 10 to the list [1, 2, 3, 4]?"
      ],
      "metadata": {
        "id": "XqRNNn0Z0dMw"
      }
    },
    {
      "cell_type": "code",
      "source": [
        "numbers = [1, 2, 3, 4]\n",
        "numbers.append(10)\n",
        "print(\"Updated list:\", numbers)\n"
      ],
      "metadata": {
        "colab": {
          "base_uri": "https://localhost:8080/"
        },
        "id": "ivQCBoyQ0iub",
        "outputId": "602c10f0-a025-4541-aa14-13a1832fafa2"
      },
      "execution_count": 9,
      "outputs": [
        {
          "output_type": "stream",
          "name": "stdout",
          "text": [
            "Updated list: [1, 2, 3, 4, 10]\n"
          ]
        }
      ]
    },
    {
      "cell_type": "markdown",
      "source": [
        "Q.8 Write a code to remove the number 3 from the list [1, 2, 3, 4, 5]?\n"
      ],
      "metadata": {
        "id": "s9oFZEwv0wDi"
      }
    },
    {
      "cell_type": "code",
      "source": [
        "numbers = [1, 2, 3, 4, 5]\n",
        "numbers.remove(3)\n",
        "print(\"Updated list:\", numbers)\n"
      ],
      "metadata": {
        "colab": {
          "base_uri": "https://localhost:8080/"
        },
        "id": "sL9OzRTh0-i7",
        "outputId": "c3e96166-57c2-4782-fec8-c957dca63b8f"
      },
      "execution_count": 10,
      "outputs": [
        {
          "output_type": "stream",
          "name": "stdout",
          "text": [
            "Updated list: [1, 2, 4, 5]\n"
          ]
        }
      ]
    },
    {
      "cell_type": "markdown",
      "source": [
        "Q.9 Write a code to access the second element in the list ['a', 'b', 'c', 'd']."
      ],
      "metadata": {
        "id": "GTjVyNJ-1FGK"
      }
    },
    {
      "cell_type": "code",
      "source": [
        "letters = ['a', 'b', 'c', 'd']\n",
        "second_element = letters[1]\n",
        "print(\"The second element is:\", second_element)\n"
      ],
      "metadata": {
        "colab": {
          "base_uri": "https://localhost:8080/"
        },
        "id": "hNdvP_Wb1OQX",
        "outputId": "ed5297db-2d81-4f79-846a-cd47d6cdcfd8"
      },
      "execution_count": 11,
      "outputs": [
        {
          "output_type": "stream",
          "name": "stdout",
          "text": [
            "The second element is: b\n"
          ]
        }
      ]
    },
    {
      "cell_type": "markdown",
      "source": [
        "Q.10 Write a code to reverse the list [10, 20, 30, 40, 50]?"
      ],
      "metadata": {
        "id": "5Q5eDcSQ1Wf9"
      }
    },
    {
      "cell_type": "code",
      "source": [
        "numbers = [10, 20, 30, 40, 50]\n",
        "numbers.reverse()\n",
        "print(\"Reversed list:\", numbers)\n"
      ],
      "metadata": {
        "colab": {
          "base_uri": "https://localhost:8080/"
        },
        "id": "Nbv4a6Iv1c9k",
        "outputId": "b33e20f8-9fb9-4091-c183-a279b1bee06f"
      },
      "execution_count": 12,
      "outputs": [
        {
          "output_type": "stream",
          "name": "stdout",
          "text": [
            "Reversed list: [50, 40, 30, 20, 10]\n"
          ]
        }
      ]
    },
    {
      "cell_type": "markdown",
      "source": [
        "Q.11 Write a code to create a tuple with the elements 100, 200, 300 and print it?"
      ],
      "metadata": {
        "id": "M-J_0Nhi1mb0"
      }
    },
    {
      "cell_type": "code",
      "source": [
        "my_tuple = (100, 200, 300)\n",
        "print(\"The tuple is:\", my_tuple)\n"
      ],
      "metadata": {
        "colab": {
          "base_uri": "https://localhost:8080/"
        },
        "id": "aFRbcAA01vaN",
        "outputId": "7c92f8fe-c907-4977-9b9a-484daae77323"
      },
      "execution_count": 13,
      "outputs": [
        {
          "output_type": "stream",
          "name": "stdout",
          "text": [
            "The tuple is: (100, 200, 300)\n"
          ]
        }
      ]
    },
    {
      "cell_type": "markdown",
      "source": [
        "Q.12 Write a code to access the second-to-last element of the tuple ('red', 'green', 'blue', 'yellow')?"
      ],
      "metadata": {
        "id": "MAKorK7l10ll"
      }
    },
    {
      "cell_type": "code",
      "source": [
        "colors = ('red', 'green', 'blue', 'yellow')\n",
        "second_to_last = colors[-2]\n",
        "print(\"The second-to-last element is:\", second_to_last)\n"
      ],
      "metadata": {
        "colab": {
          "base_uri": "https://localhost:8080/"
        },
        "id": "54y9MToD16LG",
        "outputId": "3a58a3a5-3a48-4143-cf82-4d8f9d2d9326"
      },
      "execution_count": 14,
      "outputs": [
        {
          "output_type": "stream",
          "name": "stdout",
          "text": [
            "The second-to-last element is: blue\n"
          ]
        }
      ]
    },
    {
      "cell_type": "markdown",
      "source": [
        "Q.13  Write a code to find the minimum number in the tuple (10, 20, 5, 15)?"
      ],
      "metadata": {
        "id": "i81emfYa2CqZ"
      }
    },
    {
      "cell_type": "code",
      "source": [
        "numbers = (10, 20, 5, 15)\n",
        "min_number = min(numbers)\n",
        "print(\"The minimum number is:\", min_number)\n"
      ],
      "metadata": {
        "colab": {
          "base_uri": "https://localhost:8080/"
        },
        "id": "KkNlN7l02JFT",
        "outputId": "85a64bd3-4bd4-4769-9e61-4c0614617d18"
      },
      "execution_count": 15,
      "outputs": [
        {
          "output_type": "stream",
          "name": "stdout",
          "text": [
            "The minimum number is: 5\n"
          ]
        }
      ]
    },
    {
      "cell_type": "markdown",
      "source": [
        "Q.14  Write a code to find the index of the element \"cat\" in the tuple ('dog', 'cat', 'rabbit')?"
      ],
      "metadata": {
        "id": "Qhobt7ve2VzJ"
      }
    },
    {
      "cell_type": "code",
      "source": [
        "animals = ('dog', 'cat', 'rabbit')\n",
        "index_of_cat = animals.index('cat')\n",
        "print(\"The index of 'cat' is:\", index_of_cat)\n"
      ],
      "metadata": {
        "colab": {
          "base_uri": "https://localhost:8080/"
        },
        "id": "SAUd5CiK2mWA",
        "outputId": "d8818413-3f4f-4a4c-b47a-e3e3fb200281"
      },
      "execution_count": 16,
      "outputs": [
        {
          "output_type": "stream",
          "name": "stdout",
          "text": [
            "The index of 'cat' is: 1\n"
          ]
        }
      ]
    },
    {
      "cell_type": "markdown",
      "source": [
        "Q.15 Write a code to create a tuple containing three different fruits and check if \"kiwi\" is in it?"
      ],
      "metadata": {
        "id": "yK9Gu4nv2ufD"
      }
    },
    {
      "cell_type": "code",
      "source": [
        "fruits = ('apple', 'banana', 'orange')\n",
        "is_kiwi_in_tuple = 'kiwi' in fruits\n",
        "print(\"Is 'kiwi' in the tuple?\", is_kiwi_in_tuple)\n"
      ],
      "metadata": {
        "colab": {
          "base_uri": "https://localhost:8080/"
        },
        "id": "2ocDPR5O21MA",
        "outputId": "41b0f6e1-6c5d-4fa3-a1d7-e7351e6233e0"
      },
      "execution_count": 17,
      "outputs": [
        {
          "output_type": "stream",
          "name": "stdout",
          "text": [
            "Is 'kiwi' in the tuple? False\n"
          ]
        }
      ]
    },
    {
      "cell_type": "markdown",
      "source": [
        "Q.16  Write a code to create a set with the elements 'a', 'b', 'c' and print it?"
      ],
      "metadata": {
        "id": "TGp8Q0fD2-iO"
      }
    },
    {
      "cell_type": "code",
      "source": [
        "my_set = {'a', 'b', 'c'}\n",
        "print(\"The set is:\", my_set)\n"
      ],
      "metadata": {
        "colab": {
          "base_uri": "https://localhost:8080/"
        },
        "id": "bOyOvEME3E3r",
        "outputId": "3faef1ff-ebc1-4baf-d4f1-e47d04f8aa03"
      },
      "execution_count": 19,
      "outputs": [
        {
          "output_type": "stream",
          "name": "stdout",
          "text": [
            "The set is: {'c', 'a', 'b'}\n"
          ]
        }
      ]
    },
    {
      "cell_type": "markdown",
      "source": [
        "Q.17 Write a code to clear all elements from the set {1, 2, 3, 4, 5}?"
      ],
      "metadata": {
        "id": "BeuUr3Lh5iag"
      }
    },
    {
      "cell_type": "code",
      "source": [
        "my_set = {1, 2, 3, 4, 5}\n",
        "my_set.clear()\n",
        "print(\"The set after clearing all elements:\", my_set)\n"
      ],
      "metadata": {
        "colab": {
          "base_uri": "https://localhost:8080/"
        },
        "id": "zm1q4Qda5oog",
        "outputId": "4498c585-ed68-4986-c56d-5c8e650896e4"
      },
      "execution_count": 20,
      "outputs": [
        {
          "output_type": "stream",
          "name": "stdout",
          "text": [
            "The set after clearing all elements: set()\n"
          ]
        }
      ]
    },
    {
      "cell_type": "markdown",
      "source": [
        "Q.18 Write a code to remove the element 4 from the set {1, 2, 3, 4}?"
      ],
      "metadata": {
        "id": "ildo2aiQ5w1g"
      }
    },
    {
      "cell_type": "code",
      "source": [
        "my_set = {1, 2, 3, 4}\n",
        "my_set.remove(4)\n",
        "print(\"The set after removing 4:\", my_set)\n"
      ],
      "metadata": {
        "colab": {
          "base_uri": "https://localhost:8080/"
        },
        "id": "ZlrMQbh053uX",
        "outputId": "118f6488-e32e-43ae-868d-46404fa39c9d"
      },
      "execution_count": 21,
      "outputs": [
        {
          "output_type": "stream",
          "name": "stdout",
          "text": [
            "The set after removing 4: {1, 2, 3}\n"
          ]
        }
      ]
    },
    {
      "cell_type": "markdown",
      "source": [
        "Q.19 Write a code to find the union of two sets {1, 2, 3} and {3, 4, 5}?"
      ],
      "metadata": {
        "id": "23-54RX15-M-"
      }
    },
    {
      "cell_type": "code",
      "source": [
        "set1 = {1, 2, 3}\n",
        "set2 = {3, 4, 5}\n",
        "union_set = set1.union(set2)\n",
        "print(\"The union of the sets is:\", union_set)\n"
      ],
      "metadata": {
        "colab": {
          "base_uri": "https://localhost:8080/"
        },
        "id": "dCuAagQE6IZD",
        "outputId": "ab298b70-ba63-4e23-c140-2b77ee2c5afa"
      },
      "execution_count": 22,
      "outputs": [
        {
          "output_type": "stream",
          "name": "stdout",
          "text": [
            "The union of the sets is: {1, 2, 3, 4, 5}\n"
          ]
        }
      ]
    },
    {
      "cell_type": "markdown",
      "source": [
        "Q.20  Write a code to find the intersection of two sets {1, 2, 3} and {2, 3, 4}?"
      ],
      "metadata": {
        "id": "UEGyWJM26QVZ"
      }
    },
    {
      "cell_type": "code",
      "source": [
        "set1 = {1, 2, 3}\n",
        "set2 = {2, 3, 4}\n",
        "intersection_set = set1.intersection(set2)\n",
        "print(\"The intersection of the sets is:\", intersection_set)\n"
      ],
      "metadata": {
        "colab": {
          "base_uri": "https://localhost:8080/"
        },
        "id": "_do39wrh6XjJ",
        "outputId": "2995dc1f-59e8-403c-9555-7589441853c1"
      },
      "execution_count": 23,
      "outputs": [
        {
          "output_type": "stream",
          "name": "stdout",
          "text": [
            "The intersection of the sets is: {2, 3}\n"
          ]
        }
      ]
    },
    {
      "cell_type": "markdown",
      "source": [
        "Q.21  Write a code to create a dictionary with the keys \"name\", \"age\", and \"city\", and print it."
      ],
      "metadata": {
        "id": "-38l3xW16ebP"
      }
    },
    {
      "cell_type": "code",
      "source": [
        "my_dict = {\n",
        "    \"name\": \"Shweta\",\n",
        "    \"age\": 22,\n",
        "    \"city\": \"bhilai\"\n",
        "}\n",
        "print(\"The dictionary is:\", my_dict)\n"
      ],
      "metadata": {
        "colab": {
          "base_uri": "https://localhost:8080/"
        },
        "id": "kL9vVIH36i1S",
        "outputId": "eca6a841-61a3-4906-cce4-4baad4d9dfc8"
      },
      "execution_count": 24,
      "outputs": [
        {
          "output_type": "stream",
          "name": "stdout",
          "text": [
            "The dictionary is: {'name': 'Shweta', 'age': 22, 'city': 'bhilai'}\n"
          ]
        }
      ]
    },
    {
      "cell_type": "markdown",
      "source": [
        "Q.22 Write a code to add a new key-value pair \"country\": \"USA\" to the dictionary {'name': 'John', 'age': 25}?"
      ],
      "metadata": {
        "id": "qtdneb1u6t0-"
      }
    },
    {
      "cell_type": "code",
      "source": [
        "my_dict = {'name': 'John', 'age': 25}\n",
        "my_dict['country'] = 'USA'\n",
        "print(\"Updated dictionary:\", my_dict)\n"
      ],
      "metadata": {
        "colab": {
          "base_uri": "https://localhost:8080/"
        },
        "id": "zSZGPN4b6120",
        "outputId": "e43e59d4-5b50-4d72-a114-f602875facdb"
      },
      "execution_count": 25,
      "outputs": [
        {
          "output_type": "stream",
          "name": "stdout",
          "text": [
            "Updated dictionary: {'name': 'John', 'age': 25, 'country': 'USA'}\n"
          ]
        }
      ]
    },
    {
      "cell_type": "markdown",
      "source": [
        "Q.23  Write a code to access the value associated with the key \"name\" in the dictionary {'name': 'Alice', 'age': 30}?"
      ],
      "metadata": {
        "id": "pegR4dKd67R5"
      }
    },
    {
      "cell_type": "code",
      "source": [
        "my_dict = {'name': 'Alice', 'age': 30}\n",
        "name_value = my_dict['name']\n",
        "print(\"The value associated with 'name' is:\", name_value)\n"
      ],
      "metadata": {
        "colab": {
          "base_uri": "https://localhost:8080/"
        },
        "id": "E19E38uG7A0k",
        "outputId": "b8f4ca68-b00c-4d0f-a215-5c4ae8a36131"
      },
      "execution_count": 26,
      "outputs": [
        {
          "output_type": "stream",
          "name": "stdout",
          "text": [
            "The value associated with 'name' is: Alice\n"
          ]
        }
      ]
    },
    {
      "cell_type": "markdown",
      "source": [
        "Q.24 Write a code to remove the key \"age\" from the dictionary {'name': 'Bob', 'age': 22, 'city': 'New York'}."
      ],
      "metadata": {
        "id": "JLsZjyan7HOv"
      }
    },
    {
      "cell_type": "code",
      "source": [
        "my_dict = {'name': 'Bob', 'age': 22, 'city': 'New York'}\n",
        "del my_dict['age']\n",
        "print(\"Updated dictionary:\", my_dict)\n"
      ],
      "metadata": {
        "colab": {
          "base_uri": "https://localhost:8080/"
        },
        "id": "4r-LmYos7LjF",
        "outputId": "4c729424-0b4b-4e89-a03a-25472264c0d7"
      },
      "execution_count": 27,
      "outputs": [
        {
          "output_type": "stream",
          "name": "stdout",
          "text": [
            "Updated dictionary: {'name': 'Bob', 'city': 'New York'}\n"
          ]
        }
      ]
    },
    {
      "cell_type": "markdown",
      "source": [
        "Q.25 Write a code to check if the key \"city\" exists in the dictionary {'name': 'Alice', 'city': 'Paris'}."
      ],
      "metadata": {
        "id": "fMZOPB9Z7Sns"
      }
    },
    {
      "cell_type": "code",
      "source": [
        "my_dict = {'name': 'Alice', 'city': 'Paris'}\n",
        "\n",
        "# Check if the key \"city\" exists\n",
        "if 'city' in my_dict:\n",
        "    print(\"The key 'city' exists in the dictionary.\")\n",
        "else:\n",
        "    print(\"The key 'city' does not exist in the dictionary.\")\n"
      ],
      "metadata": {
        "colab": {
          "base_uri": "https://localhost:8080/"
        },
        "id": "5L8Jey2O7XX2",
        "outputId": "540e9443-4fc1-41e9-80f5-8c224982b800"
      },
      "execution_count": 28,
      "outputs": [
        {
          "output_type": "stream",
          "name": "stdout",
          "text": [
            "The key 'city' exists in the dictionary.\n"
          ]
        }
      ]
    },
    {
      "cell_type": "markdown",
      "source": [
        "Q.26 Write a code to create a list, a tuple, and a dictionary, and print them all."
      ],
      "metadata": {
        "id": "7I2ekYWl7fvD"
      }
    },
    {
      "cell_type": "code",
      "source": [
        "# Creating a list\n",
        "my_list = [1, 2, 3, 4, 5]\n",
        "\n",
        "# Creating a tuple\n",
        "my_tuple = ('apple', 'banana', 'cherry')\n",
        "\n",
        "# Creating a dictionary\n",
        "my_dict = {'name': 'John', 'age': 30, 'city': 'New York'}\n",
        "\n",
        "# Printing the list, tuple, and dictionary\n",
        "print(\"The list is:\", my_list)\n",
        "print(\"The tuple is:\", my_tuple)\n",
        "print(\"The dictionary is:\", my_dict)\n"
      ],
      "metadata": {
        "colab": {
          "base_uri": "https://localhost:8080/"
        },
        "id": "PlaxUGDc7jpz",
        "outputId": "7c37124a-763e-4bf2-9b7a-72c631b87eca"
      },
      "execution_count": 29,
      "outputs": [
        {
          "output_type": "stream",
          "name": "stdout",
          "text": [
            "The list is: [1, 2, 3, 4, 5]\n",
            "The tuple is: ('apple', 'banana', 'cherry')\n",
            "The dictionary is: {'name': 'John', 'age': 30, 'city': 'New York'}\n"
          ]
        }
      ]
    },
    {
      "cell_type": "markdown",
      "source": [
        "Q.27 Write a code to create a list of 5 random numbers between 1 and 100, sort it in ascending order, and print the\n",
        "result.(replaced)\n",
        "\n"
      ],
      "metadata": {
        "id": "XxZcQRxL7qg4"
      }
    },
    {
      "cell_type": "code",
      "source": [
        "import random\n",
        "\n",
        "# Creating a list of 5 random numbers between 1 and 100\n",
        "random_numbers = [random.randint(1, 100) for _ in range(5)]\n",
        "\n",
        "# Sorting the list in ascending order\n",
        "random_numbers.sort()\n",
        "\n",
        "# Printing the sorted list\n",
        "print(\"Sorted list of random numbers:\", random_numbers)\n"
      ],
      "metadata": {
        "colab": {
          "base_uri": "https://localhost:8080/"
        },
        "id": "pZ6iL7UQ71d-",
        "outputId": "1b645c23-6dfe-472f-be69-936e26874e83"
      },
      "execution_count": 30,
      "outputs": [
        {
          "output_type": "stream",
          "name": "stdout",
          "text": [
            "Sorted list of random numbers: [26, 37, 55, 61, 71]\n"
          ]
        }
      ]
    },
    {
      "cell_type": "markdown",
      "source": [
        "Q.28 Write a code to create a list with strings and print the element at the third index."
      ],
      "metadata": {
        "id": "pkhj3Nqm8As9"
      }
    },
    {
      "cell_type": "code",
      "source": [
        "# Creating a list of strings\n",
        "my_list = [\"apple\", \"banana\", \"cherry\", \"date\", \"elderberry\"]\n",
        "\n",
        "# Printing the element at the third index (index 3)\n",
        "print(\"The element at index 3 is:\", my_list[3])\n"
      ],
      "metadata": {
        "colab": {
          "base_uri": "https://localhost:8080/"
        },
        "id": "zuqKn0TF8Hxl",
        "outputId": "90e8fb15-39cb-4623-abbb-a441dedfd624"
      },
      "execution_count": 31,
      "outputs": [
        {
          "output_type": "stream",
          "name": "stdout",
          "text": [
            "The element at index 3 is: date\n"
          ]
        }
      ]
    },
    {
      "cell_type": "markdown",
      "source": [
        "Q.29 Write a code to combine two dictionaries into one and print the result."
      ],
      "metadata": {
        "id": "9yPFJ91v8TpP"
      }
    },
    {
      "cell_type": "code",
      "source": [
        "# Creating two dictionaries\n",
        "dict1 = {'name': 'Alice', 'age': 25}\n",
        "dict2 = {'city': 'Paris', 'country': 'France'}\n",
        "\n",
        "# Combining the dictionaries\n",
        "combined_dict = {**dict1, **dict2}\n",
        "\n",
        "# Printing the combined dictionary\n",
        "print(\"Combined dictionary:\", combined_dict)\n"
      ],
      "metadata": {
        "colab": {
          "base_uri": "https://localhost:8080/"
        },
        "id": "LF9p1lt08X7a",
        "outputId": "ef67433d-9f7b-47d7-9a61-46b94a993639"
      },
      "execution_count": 32,
      "outputs": [
        {
          "output_type": "stream",
          "name": "stdout",
          "text": [
            "Combined dictionary: {'name': 'Alice', 'age': 25, 'city': 'Paris', 'country': 'France'}\n"
          ]
        }
      ]
    },
    {
      "cell_type": "markdown",
      "source": [
        "Q.30 Write a code to convert a list of strings into a set."
      ],
      "metadata": {
        "id": "JG_ffYcK8ft4"
      }
    },
    {
      "cell_type": "code",
      "source": [
        "# Creating a list of strings\n",
        "my_list = [\"apple\", \"banana\", \"cherry\", \"apple\", \"date\"]\n",
        "\n",
        "# Converting the list into a set\n",
        "my_set = set(my_list)\n",
        "\n",
        "# Printing the set\n",
        "print(\"The set is:\", my_set)\n"
      ],
      "metadata": {
        "colab": {
          "base_uri": "https://localhost:8080/"
        },
        "id": "2rc3f6fm8lj1",
        "outputId": "b95a0026-2dc7-49c7-b979-ade726f25780"
      },
      "execution_count": 33,
      "outputs": [
        {
          "output_type": "stream",
          "name": "stdout",
          "text": [
            "The set is: {'apple', 'cherry', 'date', 'banana'}\n"
          ]
        }
      ]
    }
  ]
}